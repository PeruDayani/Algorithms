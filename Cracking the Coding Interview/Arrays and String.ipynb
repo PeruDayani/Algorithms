{
 "cells": [
  {
   "cell_type": "code",
   "execution_count": 2,
   "metadata": {},
   "outputs": [
    {
     "name": "stdout",
     "output_type": "stream",
     "text": [
      "True\n",
      "True\n",
      "True\n"
     ]
    }
   ],
   "source": [
    "# 1.1: Unique string\n",
    "\n",
    "# With data structure: Have hash table and if there's a collision return false. Runtime: n. Space n.\n",
    "# Without data structure: Sort and see if there's a repetition. Runtime n.logn + n Space 1\n",
    "\n",
    "def UniqueString(string):\n",
    "    \n",
    "    hashArray = []\n",
    "    \n",
    "    for i in range(len(string)):\n",
    "        c = string[i]\n",
    "        \n",
    "        if c in hashArray:\n",
    "            return False\n",
    "        else:\n",
    "            hashArray.append(c)\n",
    "            \n",
    "    return True\n",
    "\n",
    "    \n",
    "print(UniqueString(\"hello\")==False)\n",
    "print(UniqueString(\"red\")==True)\n",
    "print(UniqueString(\"r#f5ha\")==True)\n"
   ]
  },
  {
   "cell_type": "code",
   "execution_count": 3,
   "metadata": {},
   "outputs": [
    {
     "name": "stdout",
     "output_type": "stream",
     "text": [
      "True\n",
      "True\n"
     ]
    }
   ],
   "source": [
    "# 1.2: Permutations\n",
    "\n",
    "# Questions:\n",
    "    # ACSII or Unicode\n",
    "    # uppercase vs lowercase\n",
    "    # white space?\n",
    "    \n",
    "# Solutions:\n",
    "    # Sort and compare: Runtime: n + nlogn, Space: 1\n",
    "    # Create hash table and check: Runtime: 2n, Space: n\n",
    "\n",
    "def Permutations(str1, str2):\n",
    "    \n",
    "    return sorted(str1) == sorted(str2)\n",
    "\n",
    "print(Permutations(\"hello\",\"hlle\")==False)\n",
    "print(Permutations(\"red\",\"edr\")==True)"
   ]
  },
  {
   "cell_type": "code",
   "execution_count": 12,
   "metadata": {},
   "outputs": [
    {
     "name": "stdout",
     "output_type": "stream",
     "text": [
      "True\n"
     ]
    }
   ],
   "source": [
    "# 1.3: URLify\n",
    "\n",
    "# Questions:\n",
    "    # \n",
    "    \n",
    "# Solution:\n",
    "    # 2 pointers: Iterate backwards, moving non \" \" chars to the end\n",
    "\n",
    "def URLify(arr):\n",
    "    \n",
    "    left = len(arr)-1\n",
    "    right = len(arr)-1\n",
    "    \n",
    "    while(arr[left]==\" \"):\n",
    "        left -= 1\n",
    "        \n",
    "    while(left > 0):\n",
    "        \n",
    "        if arr[left] != \" \":\n",
    "            arr[right] = arr[left]\n",
    "            right -= 1\n",
    "            left -= 1\n",
    "        else:\n",
    "            arr[right] = \"0\"\n",
    "            right -= 1\n",
    "            \n",
    "            arr[right] = \"2\"\n",
    "            right -= 1\n",
    "            \n",
    "            arr[right] = \"%\"\n",
    "            right -= 1\n",
    "            left -= 1\n",
    "        \n",
    "    return arr\n",
    "    \n",
    "    \n",
    "print(\"\".join(URLify(list(\"hi peru dayani    \")))==\"hi%20peru%20dayani\")\n",
    "    "
   ]
  },
  {
   "cell_type": "code",
   "execution_count": 21,
   "metadata": {},
   "outputs": [
    {
     "name": "stdout",
     "output_type": "stream",
     "text": [
      "True\n",
      "True\n",
      "True\n",
      "True\n",
      "True\n",
      "True\n"
     ]
    }
   ],
   "source": [
    "# 1.4 Palindrome Permutation\n",
    "\n",
    "# Questions:\n",
    "    # upper lower case?\n",
    "    # white spaces?\n",
    "    \n",
    "# Solution:\n",
    "    # Running hash, count%2, if >1 odd items False otherwise True\n",
    "    \n",
    "def PalindromePerm(string):\n",
    "    \n",
    "    hashTable = {}\n",
    "            \n",
    "    for i in range(len(string)):\n",
    "        c = string[i]\n",
    "        \n",
    "        if c in hashTable.keys():\n",
    "            hashTable[c] = (hashTable[c] + 1)%2\n",
    "        else:\n",
    "            hashTable[c] = 1\n",
    "    \n",
    "    return (sum(hashTable.values()) <= 1)\n",
    "\n",
    "\n",
    "print(PalindromePerm(\"abba\")==True)\n",
    "print(PalindromePerm(\"abba ++\")==True)\n",
    "print(PalindromePerm(\"12 bb 12ff\")==True)\n",
    "print(PalindromePerm(\"12 bb 12f\")==True)\n",
    "print(PalindromePerm(\"1   \")==False)\n",
    "print(PalindromePerm(\"1  \")==True)\n",
    "\n",
    "\n"
   ]
  },
  {
   "cell_type": "code",
   "execution_count": 23,
   "metadata": {},
   "outputs": [
    {
     "name": "stdout",
     "output_type": "stream",
     "text": [
      "True\n",
      "True\n",
      "True\n",
      "True\n",
      "True\n",
      "True\n"
     ]
    }
   ],
   "source": [
    "# 1.5 One away\n",
    "\n",
    "# Questions:\n",
    "    # upper lower?\n",
    "    # white spaces?\n",
    "    \n",
    "# Solution:\n",
    "    # Compare len, if diff >1 : False\n",
    "    # Compare element wise: edit logic judged by diff.\n",
    "    \n",
    "def OneAway(old, new):\n",
    "    \n",
    "    diff = len(old)-len(new)\n",
    "    \n",
    "    if abs(diff) > 1:\n",
    "        return False\n",
    "    \n",
    "    oldP = 0\n",
    "    newP = 0\n",
    "    edited = False\n",
    "    \n",
    "    while (oldP < len(old) and newP < len(new)):\n",
    "        if old[oldP] == new[newP]:\n",
    "            oldP += 1\n",
    "            newP += 1\n",
    "        else:\n",
    "            if edited == True:\n",
    "                return False\n",
    "            \n",
    "            edited = True\n",
    "            \n",
    "            if diff == 1:\n",
    "                oldP += 1\n",
    "            elif diff == 0:\n",
    "                oldP += 1\n",
    "                newP += 1\n",
    "            else:\n",
    "                newP += 1\n",
    "                \n",
    "    return True\n",
    "\n",
    "\n",
    "print(OneAway(\"pie\",\"pied\")==True)\n",
    "print(OneAway(\"bake\",\"bae\")==True)\n",
    "print(OneAway(\"roar\",\"boar\")==True)\n",
    "print(OneAway(\"abc\",\"abcde\")==False)\n",
    "print(OneAway(\"abc\",\"a\")==False)\n",
    "print(OneAway(\"abc\",\"add\")==False)"
   ]
  },
  {
   "cell_type": "code",
   "execution_count": 30,
   "metadata": {},
   "outputs": [
    {
     "name": "stdout",
     "output_type": "stream",
     "text": [
      "['a', '3', 'b', '3']\n",
      "True\n",
      "['a', '1', 'b', '1', 'c', '1', 'd', '1']\n",
      "True\n",
      "['a', '4']\n",
      "True\n",
      "['0']\n",
      "True\n"
     ]
    }
   ],
   "source": [
    "# 1.6 String compression\n",
    "\n",
    "# Questions:\n",
    "    # white spaces?\n",
    "    \n",
    "# Solution:\n",
    "    # iterate through, append to array, join and return\n",
    "    \n",
    "def StringCompress(string):\n",
    "    \n",
    "    result = []\n",
    "    \n",
    "    currChar = None\n",
    "    currCount = 0\n",
    "    \n",
    "    for i in range(len(string)):\n",
    "        c = string[i]\n",
    "        \n",
    "        if currCount == 0:\n",
    "            result.append(c)\n",
    "            currCount += 1\n",
    "            currChar = c\n",
    "        elif c != currChar:\n",
    "            result.append(str(currCount))\n",
    "            result.append(c)\n",
    "            currCount = 1\n",
    "            currChar = c\n",
    "        else:\n",
    "            currCount += 1\n",
    "     \n",
    "    result.append(str(currCount))\n",
    "\n",
    "    print(result)\n",
    "    \n",
    "    if len(result) >= len(string):\n",
    "        return string\n",
    "\n",
    "    return \"\".join(result)\n",
    "        \n",
    "print(StringCompress(\"aaabbb\")==\"a3b3\")    \n",
    "print(StringCompress(\"abcd\")==\"abcd\")    \n",
    "print(StringCompress(\"aaaa\")==\"a4\")    \n",
    "print(StringCompress(\"\")==\"\")    "
   ]
  },
  {
   "cell_type": "code",
   "execution_count": 17,
   "metadata": {},
   "outputs": [
    {
     "name": "stdout",
     "output_type": "stream",
     "text": [
      "True\n",
      "True\n",
      "True\n"
     ]
    }
   ],
   "source": [
    "# 1.7 Matrix rotation\n",
    "\n",
    "# Questions:\n",
    "    # in place?\n",
    "    \n",
    "# Solution:\n",
    "    # 4 item rotation, reduce box\n",
    "    \n",
    "def RotateMatrix(mat):\n",
    "    \n",
    "    n = len(mat)\n",
    "    \n",
    "    if n <= 1:\n",
    "        return mat\n",
    "    \n",
    "    if n != len(mat[0]):\n",
    "        return False\n",
    "    \n",
    "    for i in range(n//2):\n",
    "        \n",
    "        left = 0 + i \n",
    "        right = n - 1 - i\n",
    "        \n",
    "        for j in range(right-left):\n",
    "            temp = mat[right-j][left]\n",
    "            mat[right-j][left] = mat[right][right-j]\n",
    "            mat[right][right-j] = mat[left+j][right]\n",
    "            mat[left+j][right] = mat[left][left+j]\n",
    "            mat[left][left+j] = temp\n",
    "\n",
    "    return mat\n",
    "\n",
    "print(RotateMatrix([[1,2],[3,4]])==[[3,1],[4,2]])\n",
    "print(RotateMatrix([[1,2,3],[4,5,6],[7,8,9]])==[[7,4,1],[8,5,2],[9,6,3]])\n",
    "print(RotateMatrix([[1,2,3,4],[5,6,7,8],[9,10,11,12],[13,14,15,16]])==[[13,9,5,1],[14,10,6,2],[15,11,7,3],[16,12,8,4]])"
   ]
  },
  {
   "cell_type": "code",
   "execution_count": 26,
   "metadata": {},
   "outputs": [
    {
     "name": "stdout",
     "output_type": "stream",
     "text": [
      "True\n",
      "True\n",
      "True\n",
      "True\n"
     ]
    }
   ],
   "source": [
    "# 1.8 Zero Matrix \n",
    "\n",
    "# Questions:\n",
    "    # in place?\n",
    "    \n",
    "# Solution:\n",
    "    # iterate once, keeping a hash map of rows and columns\n",
    "    # iterate again, setting zeros if needed.\n",
    "    \n",
    "def ZeroMatrix(mat):\n",
    "    \n",
    "    n = len(mat)\n",
    "    if n == 0:\n",
    "        return False    \n",
    "    \n",
    "    m = len(mat[0])\n",
    "    if m == 0:\n",
    "        return False\n",
    "    \n",
    "    zeroRows = []\n",
    "    zeroCols = []\n",
    "    for i in range(n):\n",
    "        for j in range(m):\n",
    "            if mat[i][j] == 0:\n",
    "                zeroRows.append(i)\n",
    "                zeroCols.append(j)\n",
    "                                \n",
    "    for i in range(n):\n",
    "        for j in range(m):\n",
    "            if i in zeroRows or j in zeroCols:\n",
    "                mat[i][j] = 0\n",
    "                \n",
    "    return mat\n",
    "\n",
    "\n",
    "print(ZeroMatrix([[1,1,1,1],[0,1,1,0],[1,1,0,1]])==[[0, 1, 0, 0], [0, 0, 0, 0], [0, 0, 0, 0]])\n",
    "print(ZeroMatrix([[1,1],[1,0]])==[[1,0],[0,0]])         \n",
    "print(ZeroMatrix([[1]])==[[1]])   \n",
    "print(ZeroMatrix([[1,1,1,0]])==[[0,0,0,0]])"
   ]
  }
 ],
 "metadata": {
  "kernelspec": {
   "display_name": "Python 3",
   "language": "python",
   "name": "python3"
  },
  "language_info": {
   "codemirror_mode": {
    "name": "ipython",
    "version": 3
   },
   "file_extension": ".py",
   "mimetype": "text/x-python",
   "name": "python",
   "nbconvert_exporter": "python",
   "pygments_lexer": "ipython3",
   "version": "3.7.3"
  }
 },
 "nbformat": 4,
 "nbformat_minor": 2
}
