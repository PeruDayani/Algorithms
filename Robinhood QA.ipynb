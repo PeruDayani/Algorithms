{
 "cells": [
  {
   "cell_type": "code",
   "execution_count": 30,
   "metadata": {},
   "outputs": [],
   "source": [
    "# No. of ways to divide the array into 3 continous consective partitions \n",
    "# such that sum(part_1) <= sum(part_2) <= sum(part_3)\n",
    "\n",
    "def RobinHood_4(arr):\n",
    "    \n",
    "    lenArr = len(arr)\n",
    "    \n",
    "    prefixSum = [0] * lenArr\n",
    "    prefixSum[0] = arr[0]\n",
    "    \n",
    "    for i in range(1, lenArr):\n",
    "        prefixSum[i] = arr[i] + prefixSum[i-1]\n",
    "    \n",
    "    suffixSum = [0] * lenArr\n",
    "    suffixSum[lenArr-1] = arr[lenArr-1]\n",
    "    \n",
    "    for i in range(lenArr-2, -1, -1):\n",
    "        suffixSum[i] = arr[i] + suffixSum[i+1]\n",
    "      \n",
    "    \"\"\"\n",
    "    print(\"array\")\n",
    "    print(arr)\n",
    "    print(\"prefixSum\")\n",
    "    print(prefixSum)\n",
    "    print(\"suffixSum\")\n",
    "    print(suffixSum)\n",
    "    print()\n",
    "    \"\"\"\n",
    "    \n",
    "    windowLeft = 1\n",
    "    windowRight = 1\n",
    "    currentSum = 0\n",
    "    result = 0\n",
    "    \n",
    "    while (windowLeft < lenArr -1 and windowRight < lenArr -1):\n",
    "        \n",
    "        #print(windowLeft, windowRight, currentSum)\n",
    "        while (windowRight < lenArr - 1 and currentSum < prefixSum[windowLeft - 1]): \n",
    "            currentSum += arr[windowRight] \n",
    "            windowRight += 1\n",
    "                  \n",
    "        #print(windowLeft, windowRight, currentSum)\n",
    "        if (currentSum <= suffixSum[windowRight]): \n",
    "            print(\"ml\",windowLeft,windowRight)\n",
    "            result += 1\n",
    "            \n",
    "        #print(windowLeft, windowRight, currentSum)\n",
    "        while(windowRight+1 < lenArr - 1 and currentSum + arr[windowRight] <= suffixSum[windowRight+1]):\n",
    "            currentSum += arr[windowRight]\n",
    "            windowRight += 1\n",
    "            print(\"mr\",windowLeft,windowRight)\n",
    "            result += 1\n",
    "            \n",
    "        #print(windowLeft, windowRight, currentSum)                 \n",
    "        currentSum -= arr[windowLeft] \n",
    "        windowLeft += 1\n",
    "        \n",
    "        #print()\n",
    "      \n",
    "    return result \n",
    "    "
   ]
  },
  {
   "cell_type": "code",
   "execution_count": 31,
   "metadata": {},
   "outputs": [
    {
     "name": "stdout",
     "output_type": "stream",
     "text": [
      "ml 1 2\n",
      "mr 1 3\n",
      "ml 2 4\n"
     ]
    },
    {
     "data": {
      "text/plain": [
       "3"
      ]
     },
     "execution_count": 31,
     "metadata": {},
     "output_type": "execute_result"
    }
   ],
   "source": [
    "RobinHood_4([1,2,2,2,5,0])"
   ]
  },
  {
   "cell_type": "code",
   "execution_count": 32,
   "metadata": {},
   "outputs": [
    {
     "name": "stdout",
     "output_type": "stream",
     "text": [
      "ml 1 1\n",
      "mr 1 2\n",
      "ml 2 2\n"
     ]
    },
    {
     "data": {
      "text/plain": [
       "3"
      ]
     },
     "execution_count": 32,
     "metadata": {},
     "output_type": "execute_result"
    }
   ],
   "source": [
    "RobinHood_4([0,0,0,0])"
   ]
  }
 ],
 "metadata": {
  "kernelspec": {
   "display_name": "Python 3",
   "language": "python",
   "name": "python3"
  },
  "language_info": {
   "codemirror_mode": {
    "name": "ipython",
    "version": 3
   },
   "file_extension": ".py",
   "mimetype": "text/x-python",
   "name": "python",
   "nbconvert_exporter": "python",
   "pygments_lexer": "ipython3",
   "version": "3.7.3"
  }
 },
 "nbformat": 4,
 "nbformat_minor": 2
}
