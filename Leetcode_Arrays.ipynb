{
 "cells": [
  {
   "cell_type": "code",
   "execution_count": 69,
   "metadata": {},
   "outputs": [],
   "source": [
    "def Tester(function, tests):\n",
    "    \n",
    "    for test in tests:\n",
    "        print(\"Test: \" + str(test[0]))\n",
    "        correctResult = test[1]\n",
    "        functionResult = function(test[0])\n",
    "\n",
    "        print(\"Result: \" + str(functionResult))\n",
    "\n",
    "        if functionResult == correctResult:\n",
    "            print(\"Passed!\")\n",
    "        else:\n",
    "            print(\"Failed. correct answer is: \" + str(correctResult))\n",
    "\n",
    "        print()"
   ]
  },
  {
   "cell_type": "markdown",
   "metadata": {},
   "source": [
    "Given an array of integers nums, write a method that returns the \"pivot\" index of this array.\n",
    "\n",
    "We define the pivot index as the index where the sum of all the numbers to the left of the index is equal to the sum of all the numbers to the right of the index.\n",
    "\n",
    "If no such index exists, we should return -1. If there are multiple pivot indexes, you should return the left-most pivot index."
   ]
  },
  {
   "cell_type": "code",
   "execution_count": 70,
   "metadata": {},
   "outputs": [],
   "source": [
    "def pivotIndex(nums):\n",
    "    \"\"\"\n",
    "    :type nums: List[int]\n",
    "    :rtype: int\n",
    "    \"\"\"\n",
    "    \n",
    "    if len(nums) < 3:\n",
    "        return -1\n",
    "\n",
    "    sumAll = sum(nums)\n",
    "    sumLeft = 0\n",
    "\n",
    "    for i in range(0, len(nums)):\n",
    "        sumRight = sumAll - sumLeft - nums[i]\n",
    "\n",
    "        if sumRight == sumLeft:\n",
    "            return i\n",
    "        else:\n",
    "            sumLeft += nums[i]\n",
    "\n",
    "    return -1 "
   ]
  },
  {
   "cell_type": "code",
   "execution_count": 71,
   "metadata": {},
   "outputs": [
    {
     "name": "stdout",
     "output_type": "stream",
     "text": [
      "Test: [-1, -1, -1, 0, 1, 1]\n",
      "Result: 0\n",
      "Passed!\n",
      "\n",
      "Test: [-1, -1, 0, 1, 1, 0]\n",
      "Result: 5\n",
      "Passed!\n",
      "\n"
     ]
    }
   ],
   "source": [
    "test_1 = ( [-1,-1,-1,0,1,1] , 0)\n",
    "test_2 = ( [-1,-1, 0, 1, 1, 0] , 5)\n",
    "tests = [test_1,test_2]\n",
    "\n",
    "Tester(pivotIndex, tests)"
   ]
  },
  {
   "cell_type": "markdown",
   "metadata": {},
   "source": [
    "In a given integer array nums, there is always exactly one largest element.\n",
    "\n",
    "Find whether the largest element in the array is at least twice as much as every other number in the array.\n",
    "\n",
    "If it is, return the index of the largest element, otherwise return -1."
   ]
  },
  {
   "cell_type": "code",
   "execution_count": 72,
   "metadata": {},
   "outputs": [],
   "source": [
    "def dominantIndex(nums):\n",
    "    \"\"\"\n",
    "    :type nums: List[int]\n",
    "    :rtype: int\n",
    "    \"\"\"\n",
    "    \n",
    "    if (len(nums) == 1):\n",
    "        return 0\n",
    "    \n",
    "    largestElem = None\n",
    "    largestElemIndex = 0\n",
    "    secLargestElem = None\n",
    "    \n",
    "    for i in range(len(nums)):\n",
    "        \n",
    "        if largestElem == None:\n",
    "            largestElem = nums[i]\n",
    "            largestElemIndex = i\n",
    "            continue\n",
    "        \n",
    "        if nums[i] > largestElem:\n",
    "            secLargestElem = largestElem\n",
    "            largestElem = nums[i]\n",
    "            largestElemIndex = i\n",
    "            continue\n",
    "        \n",
    "        if secLargestElem == None:\n",
    "            secLargestElem = nums[i]\n",
    "            continue\n",
    "            \n",
    "        if nums[i] > secLargestElem:\n",
    "            secLargestElem = nums[i]\n",
    "            continue \n",
    "    \n",
    "    if (largestElem >= 2*secLargestElem):\n",
    "        return largestElemIndex\n",
    "    else:\n",
    "        return -1\n",
    "    "
   ]
  },
  {
   "cell_type": "code",
   "execution_count": 73,
   "metadata": {},
   "outputs": [
    {
     "name": "stdout",
     "output_type": "stream",
     "text": [
      "Test: [3, 6, 1, 0]\n",
      "Result: 1\n",
      "Passed!\n",
      "\n",
      "Test: [1, 2, 3, 4]\n",
      "Result: -1\n",
      "Passed!\n",
      "\n",
      "Test: [1]\n",
      "Result: 0\n",
      "Passed!\n",
      "\n"
     ]
    }
   ],
   "source": [
    "test_1 = ( [3, 6, 1, 0] , 1)\n",
    "test_2 = ( [1, 2, 3, 4] , -1)\n",
    "test_3 = ( [1] , 0)\n",
    "tests = [test_1,test_2,test_3]\n",
    "\n",
    "Tester(dominantIndex, tests)"
   ]
  },
  {
   "cell_type": "markdown",
   "metadata": {},
   "source": [
    "Given a non-empty array of digits representing a non-negative integer, increment one to the integer.\n",
    "\n",
    "The digits are stored such that the most significant digit is at the head of the list, and each element in the array contains a single digit.\n",
    "\n",
    "You may assume the integer does not contain any leading zero, except the number 0 itself."
   ]
  },
  {
   "cell_type": "code",
   "execution_count": 84,
   "metadata": {},
   "outputs": [],
   "source": [
    "def plusOne(digits):\n",
    "    \n",
    "    i = len(digits)-1\n",
    "    \n",
    "    if digits[i] < 9:\n",
    "        digits[i] += 1\n",
    "        return digits\n",
    "    else:\n",
    "        digits[i] = 0\n",
    "        carryOver = 1\n",
    "        i -= 1\n",
    "        \n",
    "        while carryOver == 1 and i > -1:\n",
    "            \n",
    "            digit = digits[i] + carryOver\n",
    "            \n",
    "            print( str(i) + \" : \" + str(digit))\n",
    "            \n",
    "            if digit > 9:\n",
    "                carryOver = 1\n",
    "                digits[i] = 0\n",
    "            else:\n",
    "                carryOver = 0\n",
    "                digits[i] = digit\n",
    "            \n",
    "            i -=1    \n",
    "            \n",
    "    \n",
    "        if carryOver == 1:\n",
    "            return [1] + digits\n",
    "        else:\n",
    "            return digits    "
   ]
  },
  {
   "cell_type": "code",
   "execution_count": 85,
   "metadata": {},
   "outputs": [
    {
     "name": "stdout",
     "output_type": "stream",
     "text": [
      "Test: [1, 2, 3]\n",
      "Result: [1, 2, 4]\n",
      "Passed!\n",
      "\n",
      "Test: [9]\n",
      "Result: [1, 0]\n",
      "Passed!\n",
      "\n",
      "Test: [9, 9]\n",
      "0 : 10\n",
      "Result: [1, 0, 0]\n",
      "Passed!\n",
      "\n"
     ]
    }
   ],
   "source": [
    "test_1 = ( [1,2,3] , [1,2,4])\n",
    "test_2 = ( [9] , [1,0])\n",
    "test_3 = ( [9,9], [1,0,0])\n",
    "tests = [test_1,test_2,test_3]\n",
    "\n",
    "Tester(plusOne, tests)"
   ]
  },
  {
   "cell_type": "markdown",
   "metadata": {},
   "source": [
    "Given a matrix of M x N elements (M rows, N columns), return all elements of the matrix in diagonal order as shown in the below image.\n"
   ]
  },
  {
   "cell_type": "code",
   "execution_count": 103,
   "metadata": {},
   "outputs": [],
   "source": [
    "def findDiagonalOrder(matrix):\n",
    "\n",
    "    i = 0\n",
    "    j = 0\n",
    "    m = len(matrix)\n",
    "    n = len(matrix[0])\n",
    "    \n",
    "    rightUp = True    \n",
    "    result = []\n",
    "    \n",
    "    while i != m and j != n :\n",
    "\n",
    "        result += [ matrix[i][j] ]\n",
    "        \n",
    "        if rightUp:\n",
    "            \n",
    "            i -= 1\n",
    "            j += 1\n",
    "            \n",
    "            if j == n:\n",
    "                rightUp = False\n",
    "                j = n -1\n",
    "                i += 2\n",
    "                \n",
    "            if (i == -1):\n",
    "                rightUp = False\n",
    "                i = 0\n",
    "        else:\n",
    "            \n",
    "            i += 1 \n",
    "            j -= 1\n",
    "            \n",
    "            if i == m:\n",
    "                rightUp = True\n",
    "                i = m-1\n",
    "                j += 2\n",
    "                \n",
    "            if j == -1:\n",
    "                rightUp = True\n",
    "                j = 0\n",
    "            \n",
    "    \n",
    "    return result\n"
   ]
  },
  {
   "cell_type": "code",
   "execution_count": 104,
   "metadata": {},
   "outputs": [
    {
     "name": "stdout",
     "output_type": "stream",
     "text": [
      "Test: [[1, 2, 3], [4, 5, 6], [7, 8, 9]]\n",
      "Result: [1, 2, 4, 7, 5, 3, 6, 8, 9]\n",
      "Passed!\n",
      "\n"
     ]
    }
   ],
   "source": [
    "test_1 = ( [\n",
    " [ 1, 2, 3 ],\n",
    " [ 4, 5, 6 ],\n",
    " [ 7, 8, 9 ]] \n",
    "    , [1,2,4,7,5,3,6,8,9]\n",
    ")\n",
    "tests = [test_1]\n",
    "\n",
    "Tester(findDiagonalOrder, tests)"
   ]
  },
  {
   "cell_type": "markdown",
   "metadata": {},
   "source": [
    "Spiral Matrix:\n",
    "Given a matrix of m x n elements (m rows, n columns), return all elements of the matrix in spiral order."
   ]
  },
  {
   "cell_type": "code",
   "execution_count": 154,
   "metadata": {},
   "outputs": [],
   "source": [
    "from enum import Enum\n",
    "\n",
    "def spiralOrder(matrix):\n",
    "    \n",
    "    class State(Enum):\n",
    "        Right = 1,\n",
    "        Down = 2,\n",
    "        Left = 3,\n",
    "        Up = 4\n",
    "    \n",
    "    state = State.Right\n",
    "    i = 0\n",
    "    j = 0\n",
    "    \n",
    "    rightEnd = len(matrix[0])\n",
    "    leftEnd = -1\n",
    "    downEnd = len(matrix)\n",
    "    upEnd = -1\n",
    "    \n",
    "    end_i = len(matrix)//2\n",
    "    end_j = len(matrix[0])//2\n",
    "    \n",
    "    if len(matrix) == 1:\n",
    "        end_j = len(matrix[0]) - 1\n",
    "    if len(matrix[0]) == 1:\n",
    "        end_i = len(matrix) - 1\n",
    "\n",
    "    result = []\n",
    "    while not(i == end_i and j == end_j):\n",
    "        \n",
    "        result += [matrix[i][j]]\n",
    "        \n",
    "        if state == State.Right:\n",
    "            \n",
    "            if j + 1 == rightEnd:\n",
    "                upEnd = i\n",
    "                i += 1\n",
    "                state = State.Down\n",
    "            else:\n",
    "                j += 1\n",
    "            \n",
    "        elif state == State.Down:\n",
    "            \n",
    "            if i + 1 == downEnd:\n",
    "                state = State.Left\n",
    "                rightEnd = j\n",
    "                j -= 1\n",
    "            else:\n",
    "                i += 1\n",
    "            \n",
    "        elif state == State.Left:\n",
    "            \n",
    "            if j-1 == leftEnd:\n",
    "                downEnd = i\n",
    "                i -= 1\n",
    "                state = State.Up\n",
    "            else:\n",
    "                j -= 1\n",
    "            \n",
    "        elif state == State.Up:\n",
    "        \n",
    "            if i-1 == upEnd:\n",
    "                leftend = j\n",
    "                j += 1\n",
    "                state = State.Right\n",
    "            else:\n",
    "                i -= 1\n",
    "        \n",
    "        else:\n",
    "            print(\"Invalid state, check logic please.\")\n",
    "        \n",
    "        print(i,j, state)\n",
    "\n",
    "    \n",
    "    return result + [matrix[i][j]]\n",
    "\n",
    "    "
   ]
  },
  {
   "cell_type": "code",
   "execution_count": 155,
   "metadata": {},
   "outputs": [
    {
     "name": "stdout",
     "output_type": "stream",
     "text": [
      "Test: [[1, 2, 3], [4, 5, 6], [7, 8, 9]]\n",
      "0 1 State.Right\n",
      "0 2 State.Right\n",
      "1 2 State.Down\n",
      "2 2 State.Down\n",
      "2 1 State.Left\n",
      "2 0 State.Left\n",
      "1 0 State.Up\n",
      "1 1 State.Right\n",
      "Result: [1, 2, 3, 6, 9, 8, 7, 4, 5]\n",
      "Passed!\n",
      "\n",
      "Test: [[1, 2, 3]]\n",
      "0 1 State.Right\n",
      "0 2 State.Right\n",
      "Result: [1, 2, 3]\n",
      "Passed!\n",
      "\n"
     ]
    }
   ],
   "source": [
    "test_1 = ( [\n",
    " [ 1, 2, 3 ],\n",
    " [ 4, 5, 6 ],\n",
    " [ 7, 8, 9 ]] \n",
    "    , [1,2,3,6,9,8,7,4,5]\n",
    ")\n",
    "\n",
    "test_2 = ( [[1,2,3]], [1,2,3])\n",
    "tests = [test_1, test_2]\n",
    "\n",
    "Tester(spiralOrder, tests)"
   ]
  },
  {
   "cell_type": "code",
   "execution_count": null,
   "metadata": {},
   "outputs": [],
   "source": []
  },
  {
   "cell_type": "code",
   "execution_count": null,
   "metadata": {},
   "outputs": [],
   "source": []
  }
 ],
 "metadata": {
  "kernelspec": {
   "display_name": "Python 3",
   "language": "python",
   "name": "python3"
  },
  "language_info": {
   "codemirror_mode": {
    "name": "ipython",
    "version": 3
   },
   "file_extension": ".py",
   "mimetype": "text/x-python",
   "name": "python",
   "nbconvert_exporter": "python",
   "pygments_lexer": "ipython3",
   "version": "3.7.3"
  }
 },
 "nbformat": 4,
 "nbformat_minor": 2
}
