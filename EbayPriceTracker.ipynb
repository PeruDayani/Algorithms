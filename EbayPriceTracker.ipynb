{
 "cells": [
  {
   "cell_type": "code",
   "execution_count": 235,
   "metadata": {},
   "outputs": [],
   "source": [
    "import requests #pip install requests\n",
    "from bs4 import BeautifulSoup #pip install bs4\n",
    "import os\n",
    "import time\n",
    "import json\n",
    "import re\n",
    "import pandas as pd"
   ]
  },
  {
   "cell_type": "markdown",
   "metadata": {},
   "source": [
    "API's used:\n",
    "- Beautiful Soup: https://www.crummy.com/software/BeautifulSoup/bs4/doc/\n",
    "- Requests : https://requests.readthedocs.io/en/master/\n",
    "\n",
    "Futher Work:\n",
    "- Database: https://medium.com/analytics-vidhya/tutorial-amazon-price-tracker-using-python-and-mongodb-part-1-aece6347ec63\n",
    "- Proxy Servers, Exceptions, crawlers : https://blog.hartleybrody.com/scrape-amazon/"
   ]
  },
  {
   "cell_type": "code",
   "execution_count": 250,
   "metadata": {},
   "outputs": [],
   "source": [
    "url = \"https://www.ebay.com/itm/Reebok-Mens-Astroride-Strike-Shoes/174184909994?_trkparms=aid%3D1110006%26algo%3DHOMESPLICE.SIM%26ao%3D1%26asc%3D20200520130048%26meid%3D6c918a478fad4c49b80b077e90359402%26pid%3D100005%26rk%3D3%26rkt%3D12%26mehot%3Dco%26sd%3D174231781782%26itm%3D174184909994%26pmt%3D1%26noa%3D0%26pg%3D2047675%26algv%3DSimplAMLv5PairwiseWebWithBBEV2bDemotion%26brand%3DReebok&_trksid=p2047675.c100005.m1851\""
   ]
  },
  {
   "cell_type": "code",
   "execution_count": 253,
   "metadata": {},
   "outputs": [],
   "source": [
    "def ParseHTML(url, printHTML = False):\n",
    "    r = requests.get(url, headers=headers)\n",
    "        \n",
    "    if r.status_code != 200:        \n",
    "        print(\"Page %s must have been blocked by eBay as the status code was %d\"%(url,r.status_code))\n",
    "        return None\n",
    "    \n",
    "    print(\"Successfully parsed page\")\n",
    "    soup = BeautifulSoup(r.content, features=\"lxml\")\n",
    "    \n",
    "    if (printHTML):\n",
    "        print(soup)\n",
    "    \n",
    "    return soup"
   ]
  },
  {
   "cell_type": "code",
   "execution_count": 256,
   "metadata": {},
   "outputs": [
    {
     "name": "stdout",
     "output_type": "stream",
     "text": [
      "Successfully parsed page\n"
     ]
    }
   ],
   "source": [
    "html = ParseHTML(url)"
   ]
  },
  {
   "cell_type": "code",
   "execution_count": 221,
   "metadata": {},
   "outputs": [],
   "source": [
    "def GetProductName_eBay(html):\n",
    "    nameTag = str(html.find(id='itemTitle'))\n",
    "    name = re.search(\"</span>(.*)</h1>\", nameTag).group(1)    \n",
    "    return name"
   ]
  },
  {
   "cell_type": "code",
   "execution_count": 222,
   "metadata": {},
   "outputs": [
    {
     "data": {
      "text/plain": [
       "\"Reebok Men's Astroride Strike Shoes\""
      ]
     },
     "execution_count": 222,
     "metadata": {},
     "output_type": "execute_result"
    }
   ],
   "source": [
    "GetProductName_eBay(html)"
   ]
  },
  {
   "cell_type": "code",
   "execution_count": 223,
   "metadata": {},
   "outputs": [],
   "source": [
    "def GetProductPrice_eBay(html):\n",
    "    priceTag = str(html.find(id='prcIsum'))\n",
    "    price = float(re.search(\"\\$(.*)</span>\", priceTag).group(1))\n",
    "    return price"
   ]
  },
  {
   "cell_type": "code",
   "execution_count": 224,
   "metadata": {},
   "outputs": [
    {
     "data": {
      "text/plain": [
       "26.31"
      ]
     },
     "execution_count": 224,
     "metadata": {},
     "output_type": "execute_result"
    }
   ],
   "source": [
    "GetProductPrice_eBay(html)"
   ]
  },
  {
   "cell_type": "code",
   "execution_count": 225,
   "metadata": {},
   "outputs": [],
   "source": [
    "def GetSimiliarProducts_ebay(html):\n",
    "    suggestionsHtml = html.find(\"ul\", attrs={\"class\": ['mfe-recos', 'mfe-recos-slider', 'clear', 'limit-small-screen']}).find_all(\"li\")\n",
    "    suggestionsDict = {}\n",
    "\n",
    "    for suggestion in suggestionsHtml:\n",
    "        url = suggestion.find(\"a\")['href']\n",
    "        name = suggestion.find(\"p\").text\n",
    "        suggestionsDict[name] = url\n",
    "\n",
    "    return suggestionsDict"
   ]
  },
  {
   "cell_type": "code",
   "execution_count": 226,
   "metadata": {},
   "outputs": [
    {
     "data": {
      "text/plain": [
       "{\"Reebok Fulgere Men's Slide Shoes\": 'https://www.ebay.com/itm/Reebok-Fulgere-Mens-Slide-Shoes/174231781722?_trkparms=aid%3D1110001%26algo%3DSPLICE.SIM%26ao%3D1%26asc%3D225086%26meid%3Ddc75731264a34065b9a3b68e4e5628d1%26pid%3D100623%26rk%3D1%26rkt%3D5%26mehot%3Dpp%26sd%3D174184909994%26itm%3D174231781722%26pmt%3D1%26noa%3D1%26pg%3D2047675&_trksid=p2047675.c100623.m-1',\n",
       " \"Reebok Lite 2 Men's Shoes\": 'https://www.ebay.com/itm/Reebok-Lite-2-Mens-Shoes/174231781789?_trkparms=aid%3D1110001%26algo%3DSPLICE.SIM%26ao%3D1%26asc%3D225086%26meid%3Ddc75731264a34065b9a3b68e4e5628d1%26pid%3D100623%26rk%3D2%26rkt%3D5%26mehot%3Dpp%26sd%3D174184909994%26itm%3D174231781789%26pmt%3D1%26noa%3D1%26pg%3D2047675&_trksid=p2047675.c100623.m-1',\n",
       " \"Men's New Outdoor Sneakers Breathable Casual Sports Athletic Running Shoes\": 'https://www.ebay.com/itm/Mens-New-Outdoor-Sneakers-Breathable-Casual-Sports-Athletic-Running-Shoes/153971434367?_trkparms=aid%3D1110001%26algo%3DSPLICE.SIM%26ao%3D1%26asc%3D225086%26meid%3Ddc75731264a34065b9a3b68e4e5628d1%26pid%3D100623%26rk%3D3%26rkt%3D5%26mehot%3Dpp%26sd%3D174184909994%26itm%3D153971434367%26pmt%3D1%26noa%3D1%26pg%3D2047675&_trksid=p2047675.c100623.m-1',\n",
       " 'Reebok Mens Athletic Astroride Strike Running Shoes': 'https://www.ebay.com/itm/Reebok-Mens-Athletic-Astroride-Strike-Running-Shoes/373063193841?_trkparms=aid%3D1110001%26algo%3DSPLICE.SIM%26ao%3D1%26asc%3D225086%26meid%3Ddc75731264a34065b9a3b68e4e5628d1%26pid%3D100623%26rk%3D4%26rkt%3D5%26sd%3D174184909994%26itm%3D373063193841%26pmt%3D1%26noa%3D1%26pg%3D2047675&_trksid=p2047675.c100623.m-1',\n",
       " \"adidas Originals Swift Run Shoes Men's\": 'https://www.ebay.com/itm/adidas-Originals-Swift-Run-Shoes-Mens/153982702764?_trkparms=aid%3D1110001%26algo%3DSPLICE.SIM%26ao%3D1%26asc%3D225086%26meid%3Ddc75731264a34065b9a3b68e4e5628d1%26pid%3D100623%26rk%3D5%26rkt%3D5%26mehot%3Dpp%26sd%3D174184909994%26itm%3D153982702764%26pmt%3D0%26noa%3D1%26pg%3D2047675&_trksid=p2047675.c100623.m-1'}"
      ]
     },
     "execution_count": 226,
     "metadata": {},
     "output_type": "execute_result"
    }
   ],
   "source": [
    "GetSimiliarProducts_ebay(html)"
   ]
  },
  {
   "cell_type": "code",
   "execution_count": 248,
   "metadata": {},
   "outputs": [],
   "source": [
    "def MonitorPrice(url, maximumPrice = 40, maximumTime = 10):\n",
    "    \n",
    "    html = ParseHTML(url)\n",
    "    productPrice = GetProductPrice_eBay(html)\n",
    "    productName = GetProductName_eBay(html)\n",
    "    \n",
    "    if (productPrice < maximumPrice):\n",
    "        return \" GO BUY\"\n",
    "\n",
    "    print(\"Monioting product: \" + productName + \" \\n\")\n",
    "    startTime = time.time()\n",
    "    \n",
    "    while ( productPrice > maximumPrice and time.time()-startTime < maximumTime):\n",
    "\n",
    "        productPrice = GetProductPrice_eBay(html)\n",
    "        \n",
    "        print(\" Time: \" + str(time.ctime()) )\n",
    "        print(\" Price: \" + str(productPrice) + \" \\n\")\n",
    "        \n",
    "        if (productPrice < maximumPrice):\n",
    "            return \"GO BUY!!!\"\n",
    "        \n",
    "        time.sleep(3)\n",
    "\n",
    "        \n",
    "    similiarProducts = GetSimiliarProducts_ebay(html)\n",
    "    print(\"Product price did not drop to required value in given time frame. \\n\")\n",
    "    print(\"Some similiar products:\")\n",
    "    \n",
    "    for item in similiarProducts.keys():\n",
    "        print(item)\n",
    "        print(similiarProducts[item])\n",
    "        print()\n",
    "    \n",
    "    return \"Sorry\""
   ]
  },
  {
   "cell_type": "code",
   "execution_count": 249,
   "metadata": {},
   "outputs": [
    {
     "name": "stdout",
     "output_type": "stream",
     "text": [
      "Successfully parsed page\n",
      "Monioting product: Reebok Men's Astroride Strike Shoes \n",
      "\n",
      " Time: Fri Jul 17 18:14:17 2020\n",
      " Price: 26.31 \n",
      "\n",
      " Time: Fri Jul 17 18:14:20 2020\n",
      " Price: 26.31 \n",
      "\n",
      " Time: Fri Jul 17 18:14:23 2020\n",
      " Price: 26.31 \n",
      "\n",
      " Time: Fri Jul 17 18:14:26 2020\n",
      " Price: 26.31 \n",
      "\n",
      " Time: Fri Jul 17 18:14:29 2020\n",
      " Price: 26.31 \n",
      "\n",
      "Product price did not drop to required value in given time frame. \n",
      "\n",
      "Some similiar products:\n",
      "Reebok Lite 2 Men's Shoes\n",
      "https://www.ebay.com/itm/Reebok-Lite-2-Mens-Shoes/174231781789?_trkparms=aid%3D1110001%26algo%3DSPLICE.SIM%26ao%3D1%26asc%3D20160323102634%26meid%3Df701515bb9684ddc88a9dff0027f71b9%26pid%3D100623%26rk%3D1%26rkt%3D5%26mehot%3Dpp%26sd%3D174184909994%26itm%3D174231781789%26pmt%3D1%26noa%3D1%26pg%3D2047675&_trksid=p2047675.c100623.m-1\n",
      "\n",
      "Reebok Fulgere Men's Slide Shoes\n",
      "https://www.ebay.com/itm/Reebok-Fulgere-Mens-Slide-Shoes/174231781722?_trkparms=aid%3D1110001%26algo%3DSPLICE.SIM%26ao%3D1%26asc%3D20160323102634%26meid%3Df701515bb9684ddc88a9dff0027f71b9%26pid%3D100623%26rk%3D2%26rkt%3D5%26mehot%3Dpp%26sd%3D174184909994%26itm%3D174231781722%26pmt%3D1%26noa%3D1%26pg%3D2047675&_trksid=p2047675.c100623.m-1\n",
      "\n",
      "Men's New Outdoor Sneakers Breathable Casual Sports Athletic Running Shoes\n",
      "https://www.ebay.com/itm/Mens-New-Outdoor-Sneakers-Breathable-Casual-Sports-Athletic-Running-Shoes/153971434367?_trkparms=aid%3D1110001%26algo%3DSPLICE.SIM%26ao%3D1%26asc%3D20160323102634%26meid%3Df701515bb9684ddc88a9dff0027f71b9%26pid%3D100623%26rk%3D3%26rkt%3D5%26mehot%3Dpp%26sd%3D174184909994%26itm%3D153971434367%26pmt%3D1%26noa%3D1%26pg%3D2047675&_trksid=p2047675.c100623.m-1\n",
      "\n",
      "Reebok Cloudride DMX 4 Men's Shoes\n",
      "https://www.ebay.com/itm/Reebok-Cloudride-DMX-4-Mens-Shoes/174316348337?_trkparms=aid%3D1110001%26algo%3DSPLICE.SIM%26ao%3D1%26asc%3D20160323102634%26meid%3Df701515bb9684ddc88a9dff0027f71b9%26pid%3D100623%26rk%3D4%26rkt%3D5%26mehot%3Dpp%26sd%3D174184909994%26itm%3D174316348337%26pmt%3D1%26noa%3D1%26pg%3D2047675&_trksid=p2047675.c100623.m-1\n",
      "\n",
      "adidas Alphabounce Beyond 2.0 Shoes Men's\n",
      "https://www.ebay.com/itm/adidas-Alphabounce-Beyond-2-0-Shoes-Mens/153939414441?_trkparms=aid%3D1110001%26algo%3DSPLICE.SIM%26ao%3D1%26asc%3D20160323102634%26meid%3Df701515bb9684ddc88a9dff0027f71b9%26pid%3D100623%26rk%3D5%26rkt%3D5%26mehot%3Dpp%26sd%3D174184909994%26itm%3D153939414441%26pmt%3D0%26noa%3D1%26pg%3D2047675&_trksid=p2047675.c100623.m-1\n",
      "\n"
     ]
    },
    {
     "data": {
      "text/plain": [
       "'Sorry'"
      ]
     },
     "execution_count": 249,
     "metadata": {},
     "output_type": "execute_result"
    }
   ],
   "source": [
    "MonitorPrice(url, 20, 15)"
   ]
  },
  {
   "cell_type": "code",
   "execution_count": null,
   "metadata": {},
   "outputs": [],
   "source": []
  }
 ],
 "metadata": {
  "kernelspec": {
   "display_name": "Python 3",
   "language": "python",
   "name": "python3"
  },
  "language_info": {
   "codemirror_mode": {
    "name": "ipython",
    "version": 3
   },
   "file_extension": ".py",
   "mimetype": "text/x-python",
   "name": "python",
   "nbconvert_exporter": "python",
   "pygments_lexer": "ipython3",
   "version": "3.7.3"
  }
 },
 "nbformat": 4,
 "nbformat_minor": 2
}
