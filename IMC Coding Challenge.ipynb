{
 "cells": [
  {
   "cell_type": "code",
   "execution_count": 68,
   "metadata": {},
   "outputs": [],
   "source": [
    "def test(N, artifacts, searched):\n",
    "    \n",
    "    # Define result variables\n",
    "    full_items_found = 0\n",
    "    part_items_found = 0\n",
    "\n",
    "    # Get list of searched coordinates. \n",
    "    # Eg: '2C 1A' -> ['2C', '1A']\n",
    "    searched_coords = searched.split()\n",
    "    \n",
    "    # Get list of list of artifact locations. \n",
    "    # Eg: '1A 1A,2C 2C' -> [['1A', '1A'], ['2C', '2C']]\n",
    "    artifacts_coords = []\n",
    "    for artifact in artifacts.split(','):\n",
    "        artifacts_coords.append(artifact.split(\" \"))\n",
    "    \n",
    "    # Check how many pieces are found for each artifact\n",
    "    for artifact_c in artifacts_coords:\n",
    "        \n",
    "        # Start and end position of artifact pieces\n",
    "        left = artifact_c[0]\n",
    "        right = artifact_c[1]\n",
    "        start = left\n",
    "\n",
    "        # variables to store total n0. of pieces and total no. of found pieces\n",
    "        count = 1\n",
    "        found = 0\n",
    "\n",
    "        # Iterate through all positions where a piece is buried\n",
    "        while left != right:\n",
    "            \n",
    "            # Increase count of pieces\n",
    "            count += 1\n",
    "\n",
    "            # Check if current piece position was searched\n",
    "            if left in searched_coords:\n",
    "                found += 1\n",
    "                \n",
    "            # Move to next piece location\n",
    "            if left[0] == right[0]:\n",
    "                left = start[0] + chr(ord(left[1])+1)\n",
    "            else:\n",
    "                left = chr(ord(left[0])+1) + left[1]\n",
    "\n",
    "        # Check last piece location\n",
    "        if right in searched_coords:\n",
    "            found += 1\n",
    "            \n",
    "        # Check if all pieces or partial no. of pieces are found\n",
    "        if count == found:\n",
    "            full_items_found += 1\n",
    "        elif found != 0:\n",
    "            part_items_found += 1\n",
    "    \n",
    "    return [full_items_found, part_items_found]"
   ]
  },
  {
   "cell_type": "code",
   "execution_count": 69,
   "metadata": {},
   "outputs": [
    {
     "data": {
      "text/plain": [
       "[2, 0]"
      ]
     },
     "execution_count": 69,
     "metadata": {},
     "output_type": "execute_result"
    }
   ],
   "source": [
    "test(3,'1A 1A,2C 2C','2C 1A')"
   ]
  },
  {
   "cell_type": "code",
   "execution_count": 71,
   "metadata": {},
   "outputs": [
    {
     "data": {
      "text/plain": [
       "[0, 0]"
      ]
     },
     "execution_count": 71,
     "metadata": {},
     "output_type": "execute_result"
    }
   ],
   "source": [
    "test(4,'1B 1B,2D 4D,1A 1A','4A')"
   ]
  },
  {
   "cell_type": "code",
   "execution_count": null,
   "metadata": {},
   "outputs": [],
   "source": []
  }
 ],
 "metadata": {
  "kernelspec": {
   "display_name": "Python 3",
   "language": "python",
   "name": "python3"
  },
  "language_info": {
   "codemirror_mode": {
    "name": "ipython",
    "version": 3
   },
   "file_extension": ".py",
   "mimetype": "text/x-python",
   "name": "python",
   "nbconvert_exporter": "python",
   "pygments_lexer": "ipython3",
   "version": "3.7.3"
  }
 },
 "nbformat": 4,
 "nbformat_minor": 2
}
