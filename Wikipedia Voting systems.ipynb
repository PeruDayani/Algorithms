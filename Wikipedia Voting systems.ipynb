{
 "cells": [
  {
   "cell_type": "code",
   "execution_count": 1,
   "metadata": {},
   "outputs": [],
   "source": [
    "import numpy as np"
   ]
  },
  {
   "cell_type": "markdown",
   "metadata": {},
   "source": [
    "# Wikipedia Voting algorithims\n",
    "\n",
    "### Aim:\n",
    "\n",
    "To combine the votes of all the voters to create a ranking of all the candidates accounting for the completeness, transitivity and loss of information due to the choice of voting systems. \n",
    "\n",
    "The following voting models are implemented:\n",
    "1. Generalized plurality voting system: \n",
    "2. Borda count\n",
    "3. Condorcet voting:\n",
    " \n",
    "Further optimizations on the algorithim can include:\n",
    "- Account for incomplete voter rankings\n",
    "- Weighted Borda count to satisfy Sen's axioms.\n",
    "\n",
    "### Algorithm Description:\n",
    "Assuming we have $ N $ voters $ {v_1, v_2 ... v_N} $ and $ M $ candidates $ {c_1, c_2 ... c_M} $.\n",
    "Each voter provides a descending ordered ranking of all the candidates from highest to lowest support: $ r_{v_1} = [c_3, c_5, ... c_1] $. \n",
    "\n",
    "1. Generalized plurality voting system: \n",
    "    - Tally the number of times a candidate receives the top vote.\n",
    "    - The candidate with the most top votes wins.\n",
    "2. Borda count\n",
    "    - Each position of the ranking is given a weighted score.\n",
    "    - Rank i recieves a score of M-i. Thererfore for a given voters rankings the top candiate will recieve the maximum score of M-1 and the lowest ranked one will recieve a score of 0.\n",
    "    - Tally these weighted scores for all the voters and the top score wins.\n",
    "3. Condorcet voting:\n",
    "    - For every $ c_i, c_j $ pair where $ i != j $ conduct a pairwise comparison across all voter rankings to determine which candidate is ranked higher.\n",
    "    - Draw logical acyclic ranking if possible.\n",
    "\n",
    "Input Parameters:\n",
    "- A list of all candidates\n",
    "- A dictionary of all voter's and their rankings:\n",
    "    - Key: user identifier\n",
    "    - Value: list of ranked candidates by the user\n",
    "\n",
    "Output Paraments:\n",
    "- Dictionary of ranked candidates and recieved votes/score"
   ]
  },
  {
   "cell_type": "code",
   "execution_count": 2,
   "metadata": {},
   "outputs": [],
   "source": [
    "def GP_Voting( allCandidates, allVotes ):\n",
    "    \n",
    "    tally = dict.fromkeys(allCandidates, 0)\n",
    "    \n",
    "    for voter in allVotes.keys():\n",
    "        vote = allVotes[voter]\n",
    "        topCandidate = vote[0]\n",
    "        tally[topCandidate] += 1\n",
    "\n",
    "    sortedTally = sorted(tally.items(), key=lambda x: x[1], reverse=True)\n",
    "    \n",
    "    return sortedTally"
   ]
  },
  {
   "cell_type": "code",
   "execution_count": 3,
   "metadata": {},
   "outputs": [],
   "source": [
    "def BC_Voting( allCandidates, allVotes ):\n",
    "    \n",
    "    tally = dict.fromkeys(allCandidates, 0)\n",
    "    numCandidates = len(allCandidates)\n",
    "    \n",
    "    for voter in allVotes.keys():\n",
    "        voterRanking = allVotes[voter]        \n",
    "        \n",
    "        i = 1\n",
    "        for candidate in voterRanking:\n",
    "            tally[candidate] += numCandidates-i\n",
    "            i+=1            \n",
    "\n",
    "    sortedTally = sorted(tally.items(), key=lambda x: x[1], reverse=True)\n",
    "    \n",
    "    return sortedTally"
   ]
  },
  {
   "cell_type": "code",
   "execution_count": 4,
   "metadata": {},
   "outputs": [],
   "source": [
    "def Condorcet_Voting( allCandidates, allVotes ):\n",
    "    \n",
    "    # TODO\n",
    "    \n",
    "    return \"TODO\""
   ]
  },
  {
   "cell_type": "code",
   "execution_count": 19,
   "metadata": {},
   "outputs": [],
   "source": [
    "# Test Case\n",
    "\n",
    "allCandidates = ['A', 'B', 'C']\n",
    "allVotes = {\n",
    "    1 : ['C', 'A', 'B'],\n",
    "    2 : ['C', 'A', 'B'],\n",
    "    3 : ['C', 'A', 'B'],\n",
    "    4 : ['C', 'A', 'B'],    \n",
    "    5 : ['C', 'A', 'B'],\n",
    "    6 : ['C', 'A', 'B'],    \n",
    "    7 : ['C', 'A', 'B'],\n",
    "    8 : ['C', 'A', 'B'],    \n",
    "    9 : ['C', 'A', 'B'],\n",
    "    10 : ['A', 'B','C'],    \n",
    "    11 : ['A', 'B','C'],\n",
    "    12 : ['A', 'B','C'],\n",
    "    13 : ['A', 'B','C'],\n",
    "    14 : ['A', 'B','C'],    \n",
    "    15 : ['A', 'B','C'],\n",
    "    16 : ['A', 'B','C'],    \n",
    "    17 : ['A', 'B','C'],\n",
    "    18 : ['B','C','A'],    \n",
    "    19 : ['B','C','A'],\n",
    "    20 : ['B','C','A'],    \n",
    "    21 : ['B','C','A'],\n",
    "    22 : ['B','C','A'],\n",
    "    23 : ['B','C','A'],\n",
    "    24 : ['B','C','A'],    \n",
    "    25 : ['B','A','C'],\n",
    "    26 : ['B','A','C'],    \n",
    "    27 : ['B','A','C'],\n",
    "    28 : ['B','A','C'],    \n",
    "    29 : ['B','A','C'],\n",
    "    30 : ['C','B','A'],    \n",
    "    31 : ['C','B','A']   \n",
    "}"
   ]
  },
  {
   "cell_type": "code",
   "execution_count": 5,
   "metadata": {},
   "outputs": [],
   "source": [
    "# midterm\n",
    "\n",
    "allCandidates = ['A', 'B', 'C']\n",
    "allVotes = {\n",
    "    1 : ['B', 'C', 'A'],\n",
    "    2 : ['A', 'B', 'C'],\n",
    "    3 : ['A', 'B', 'C'],\n",
    "    4 : ['B', 'C', 'A'],    \n",
    "    5 : ['B', 'C', 'A'],\n",
    "    6 : ['C', 'A', 'B'],    \n",
    "    7 : ['A', 'C', 'B'],\n",
    "    8 : ['C', 'B', 'A'] \n",
    "}"
   ]
  },
  {
   "cell_type": "code",
   "execution_count": 6,
   "metadata": {},
   "outputs": [
    {
     "data": {
      "text/plain": [
       "[('A', 3), ('B', 3), ('C', 2)]"
      ]
     },
     "execution_count": 6,
     "metadata": {},
     "output_type": "execute_result"
    }
   ],
   "source": [
    "GP_Voting( allCandidates, allVotes )"
   ]
  },
  {
   "cell_type": "code",
   "execution_count": 7,
   "metadata": {},
   "outputs": [
    {
     "data": {
      "text/plain": [
       "[('B', 9), ('C', 8), ('A', 7)]"
      ]
     },
     "execution_count": 7,
     "metadata": {},
     "output_type": "execute_result"
    }
   ],
   "source": [
    "BC_Voting( allCandidates, allVotes )"
   ]
  },
  {
   "cell_type": "code",
   "execution_count": 8,
   "metadata": {},
   "outputs": [
    {
     "data": {
      "text/plain": [
       "'TODO'"
      ]
     },
     "execution_count": 8,
     "metadata": {},
     "output_type": "execute_result"
    }
   ],
   "source": [
    "Condorcet_Voting( allCandidates, allVotes )"
   ]
  },
  {
   "cell_type": "code",
   "execution_count": null,
   "metadata": {},
   "outputs": [],
   "source": []
  }
 ],
 "metadata": {
  "kernelspec": {
   "display_name": "Python 3",
   "language": "python",
   "name": "python3"
  },
  "language_info": {
   "codemirror_mode": {
    "name": "ipython",
    "version": 3
   },
   "file_extension": ".py",
   "mimetype": "text/x-python",
   "name": "python",
   "nbconvert_exporter": "python",
   "pygments_lexer": "ipython3",
   "version": "3.7.3"
  }
 },
 "nbformat": 4,
 "nbformat_minor": 2
}
