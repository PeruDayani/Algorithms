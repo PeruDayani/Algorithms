{
 "cells": [
  {
   "cell_type": "code",
   "execution_count": 3,
   "metadata": {},
   "outputs": [],
   "source": [
    "import numpy as np"
   ]
  },
  {
   "cell_type": "markdown",
   "metadata": {},
   "source": [
    "# Amazon Ranking Algo\n",
    "\n",
    "### Aim:\n",
    "To rank all the items in a certain catergory taking into account both the ratings and the number of ratings given to a product. This is achieved by applying bayesian adjustment on the data set. \n",
    "\n",
    "Further optimizations on the algorithim can include:\n",
    "- Factor in time period of review\n",
    "- Factor in reputation score of reviews\n",
    "- Quality of review\n",
    "- Stock remaining of item, demand, etc?\n",
    "\n",
    "### Algorithm Description:\n",
    "Assign a ranking based on the ratings and number of reviews provided to a certain product relative to the average rating and total number of reviews in that category of products.\n",
    "\n",
    "Assuming a total of N reviews with average rating of R. For each product $i$ with avg. rating $ r_i $ across the $ n_i $ reviews recieved the bayesian ranking is calculated as:\n",
    "$$ ranking = (N*R + n_i*r_i) / (N+n_i) $$\n",
    "\n",
    "Input Parameters:\n",
    "- Total number of ratings (optional)\n",
    "- Total average rating (optional)\n",
    "- A dictionary of all products and recieved ratings for each:\n",
    "    - Key : product name/id\n",
    "    - Value : list of ratings given\n",
    "\n",
    "Output Paraments:\n",
    "- A dictionary of all the products and their ranking:\n",
    "    - Key : product name/id\n",
    "    - Value: bayseian ranking\n",
    "    "
   ]
  },
  {
   "cell_type": "code",
   "execution_count": 17,
   "metadata": {},
   "outputs": [],
   "source": [
    "def Bayseian_Ranking(item_ratings, total_num_rating=None, total_avg_rating=None):\n",
    "   \n",
    "    if total_num_rating == None or total_avg_rating == None:\n",
    "        \n",
    "        total_num_rating = 0\n",
    "        total_rating = 0\n",
    "        \n",
    "        for item in item_ratings.keys():\n",
    "            ratings = item_ratings[item]\n",
    "            total_num_rating += len(ratings)\n",
    "            total_rating += sum(ratings)\n",
    "        \n",
    "        total_avg_rating = total_rating/total_num_rating\n",
    "            \n",
    "    print(\" Total number of revies: \" + str(total_num_rating))\n",
    "    print(\" Total average rating :  \" + str(total_avg_rating))\n",
    "        \n",
    "    item_ranking = {}\n",
    "\n",
    "    for item in item_ratings.keys():\n",
    "\n",
    "        ratings = item_ratings[item]\n",
    "        num_ratings = len(ratings)\n",
    "        avg_rating = np.mean(ratings)\n",
    "\n",
    "        bayseian_rating = (total_ratings*total_avg_rating + num_ratings*avg_rating)/(total_ratings+num_ratings)\n",
    "\n",
    "        item_ranking[item] = bayseian_rating\n",
    "\n",
    "    return item_ranking "
   ]
  },
  {
   "cell_type": "code",
   "execution_count": 18,
   "metadata": {},
   "outputs": [
    {
     "name": "stdout",
     "output_type": "stream",
     "text": [
      " Total number of revies: 50\n",
      " Total average rating :  4\n"
     ]
    },
    {
     "data": {
      "text/plain": [
       "{'Canon': 4.056603773584905, 'HP': 4.058333333333334}"
      ]
     },
     "execution_count": 18,
     "metadata": {},
     "output_type": "execute_result"
    }
   ],
   "source": [
    "# Test case\n",
    "item_ratings = {\n",
    "    \"Canon\" : [5,5,5],\n",
    "    \"HP\" : [4.5, 5, 4, 5, 4, 5, 3, 5, 4.5, 3.5] \n",
    "}\n",
    "\n",
    "Bayseian_Ranking(item_ratings, 50, 4)"
   ]
  },
  {
   "cell_type": "code",
   "execution_count": null,
   "metadata": {},
   "outputs": [],
   "source": []
  }
 ],
 "metadata": {
  "kernelspec": {
   "display_name": "Python 3",
   "language": "python",
   "name": "python3"
  },
  "language_info": {
   "codemirror_mode": {
    "name": "ipython",
    "version": 3
   },
   "file_extension": ".py",
   "mimetype": "text/x-python",
   "name": "python",
   "nbconvert_exporter": "python",
   "pygments_lexer": "ipython3",
   "version": "3.7.3"
  }
 },
 "nbformat": 4,
 "nbformat_minor": 2
}
