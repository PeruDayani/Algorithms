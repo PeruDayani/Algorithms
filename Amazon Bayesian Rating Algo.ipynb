{
 "cells": [
  {
   "cell_type": "code",
   "execution_count": 1,
   "metadata": {},
   "outputs": [],
   "source": [
    "import numpy as np"
   ]
  },
  {
   "cell_type": "markdown",
   "metadata": {},
   "source": [
    "# Amazon Ranking Algo\n",
    "\n",
    "### Aim:\n",
    "To rank all the items in a certain catergory taking into account both the ratings and the number of ratings given to a product. This is achieved by applying bayesian adjustment on the data set. \n",
    "\n",
    "Further optimizations on the algorithim can include:\n",
    "- Factor in time period of review\n",
    "- Factor in reputation score of reviews\n",
    "- Quality of review\n",
    "- Stock remaining of item, demand, etc?\n",
    "\n",
    "### Algorithm Description:\n",
    "Assign a ranking based on the ratings and number of reviews provided to a certain product relative to the average rating and total number of reviews in that category of products.\n",
    "\n",
    "Assuming a total of N reviews with average rating of R. For each product $i$ with avg. rating $ r_i $ across the $ n_i $ reviews recieved the bayesian ranking is calculated as:\n",
    "$$ ranking = (N*R + n_i*r_i) / (N+n_i) $$\n",
    "\n",
    "Input Parameters:\n",
    "- Total number of ratings (optional)\n",
    "- Total average rating (optional)\n",
    "- A dictionary of all products and recieved ratings for each:\n",
    "    - Key : product name/id\n",
    "    - Value : list of ratings given\n",
    "\n",
    "Output Paraments:\n",
    "- A dictionary of all the products and their ranking:\n",
    "    - Key : product name/id\n",
    "    - Value: bayseian ranking\n",
    "    "
   ]
  },
  {
   "cell_type": "code",
   "execution_count": 2,
   "metadata": {},
   "outputs": [],
   "source": [
    "def Bayseian_Ranking(item_ratings, total_num_rating=None, total_avg_rating=None):\n",
    "   \n",
    "    if total_num_rating == None or total_avg_rating == None:\n",
    "        \n",
    "        total_num_rating = 0\n",
    "        total_rating = 0\n",
    "        \n",
    "        for item in item_ratings.keys():\n",
    "            ratings = item_ratings[item]\n",
    "            total_num_rating += len(ratings)\n",
    "            total_rating += sum(ratings)\n",
    "        \n",
    "        total_avg_rating = total_rating/total_num_rating\n",
    "            \n",
    "    print(\" Total number of revies: \" + str(total_num_rating))\n",
    "    print(\" Total average rating :  \" + str(total_avg_rating))\n",
    "        \n",
    "    item_ranking = {}\n",
    "\n",
    "    for item in item_ratings.keys():\n",
    "\n",
    "        ratings = item_ratings[item]\n",
    "        num_ratings = len(ratings)\n",
    "        avg_rating = np.mean(ratings)\n",
    "\n",
    "        bayseian_rating = (total_ratings*total_avg_rating + num_ratings*avg_rating)/(total_ratings+num_ratings)\n",
    "\n",
    "        item_ranking[item] = bayseian_rating\n",
    "\n",
    "    return item_ranking "
   ]
  },
  {
   "cell_type": "code",
   "execution_count": 5,
   "metadata": {},
   "outputs": [
    {
     "name": "stdout",
     "output_type": "stream",
     "text": [
      " Total number of revies: 50\n",
      " Total average rating :  4\n"
     ]
    },
    {
     "ename": "NameError",
     "evalue": "name 'total_ratings' is not defined",
     "output_type": "error",
     "traceback": [
      "\u001b[0;31m---------------------------------------------------------------------------\u001b[0m",
      "\u001b[0;31mNameError\u001b[0m                                 Traceback (most recent call last)",
      "\u001b[0;32m<ipython-input-5-7d1375ab0fad>\u001b[0m in \u001b[0;36m<module>\u001b[0;34m\u001b[0m\n\u001b[1;32m      5\u001b[0m }\n\u001b[1;32m      6\u001b[0m \u001b[0;34m\u001b[0m\u001b[0m\n\u001b[0;32m----> 7\u001b[0;31m \u001b[0mBayseian_Ranking\u001b[0m\u001b[0;34m(\u001b[0m\u001b[0mitem_ratings\u001b[0m\u001b[0;34m,\u001b[0m \u001b[0;36m50\u001b[0m\u001b[0;34m,\u001b[0m \u001b[0;36m4\u001b[0m\u001b[0;34m)\u001b[0m\u001b[0;34m\u001b[0m\u001b[0;34m\u001b[0m\u001b[0m\n\u001b[0m",
      "\u001b[0;32m<ipython-input-2-f6bd28785762>\u001b[0m in \u001b[0;36mBayseian_Ranking\u001b[0;34m(item_ratings, total_num_rating, total_avg_rating)\u001b[0m\n\u001b[1;32m     24\u001b[0m         \u001b[0mavg_rating\u001b[0m \u001b[0;34m=\u001b[0m \u001b[0mnp\u001b[0m\u001b[0;34m.\u001b[0m\u001b[0mmean\u001b[0m\u001b[0;34m(\u001b[0m\u001b[0mratings\u001b[0m\u001b[0;34m)\u001b[0m\u001b[0;34m\u001b[0m\u001b[0;34m\u001b[0m\u001b[0m\n\u001b[1;32m     25\u001b[0m \u001b[0;34m\u001b[0m\u001b[0m\n\u001b[0;32m---> 26\u001b[0;31m         \u001b[0mbayseian_rating\u001b[0m \u001b[0;34m=\u001b[0m \u001b[0;34m(\u001b[0m\u001b[0mtotal_ratings\u001b[0m\u001b[0;34m*\u001b[0m\u001b[0mtotal_avg_rating\u001b[0m \u001b[0;34m+\u001b[0m \u001b[0mnum_ratings\u001b[0m\u001b[0;34m*\u001b[0m\u001b[0mavg_rating\u001b[0m\u001b[0;34m)\u001b[0m\u001b[0;34m/\u001b[0m\u001b[0;34m(\u001b[0m\u001b[0mtotal_ratings\u001b[0m\u001b[0;34m+\u001b[0m\u001b[0mnum_ratings\u001b[0m\u001b[0;34m)\u001b[0m\u001b[0;34m\u001b[0m\u001b[0;34m\u001b[0m\u001b[0m\n\u001b[0m\u001b[1;32m     27\u001b[0m \u001b[0;34m\u001b[0m\u001b[0m\n\u001b[1;32m     28\u001b[0m         \u001b[0mitem_ranking\u001b[0m\u001b[0;34m[\u001b[0m\u001b[0mitem\u001b[0m\u001b[0;34m]\u001b[0m \u001b[0;34m=\u001b[0m \u001b[0mbayseian_rating\u001b[0m\u001b[0;34m\u001b[0m\u001b[0;34m\u001b[0m\u001b[0m\n",
      "\u001b[0;31mNameError\u001b[0m: name 'total_ratings' is not defined"
     ]
    }
   ],
   "source": [
    "# Test case\n",
    "item_ratings = {\n",
    "    \"Canon\" : [5,5,5],\n",
    "    \"HP\" : [4.5, 5, 4, 5, 4, 5, 3, 5, 4.5, 3.5] \n",
    "}\n",
    "\n",
    "Bayseian_Ranking(item_ratings, 50, 4)"
   ]
  },
  {
   "cell_type": "code",
   "execution_count": 4,
   "metadata": {},
   "outputs": [
    {
     "name": "stdout",
     "output_type": "stream",
     "text": [
      " Total number of revies: 50\n",
      " Total average rating :  4.19\n"
     ]
    },
    {
     "ename": "NameError",
     "evalue": "name 'total_ratings' is not defined",
     "output_type": "error",
     "traceback": [
      "\u001b[0;31m---------------------------------------------------------------------------\u001b[0m",
      "\u001b[0;31mNameError\u001b[0m                                 Traceback (most recent call last)",
      "\u001b[0;32m<ipython-input-4-2fe301d1d68f>\u001b[0m in \u001b[0;36m<module>\u001b[0;34m\u001b[0m\n\u001b[1;32m      8\u001b[0m }\n\u001b[1;32m      9\u001b[0m \u001b[0;34m\u001b[0m\u001b[0m\n\u001b[0;32m---> 10\u001b[0;31m \u001b[0mBayseian_Ranking\u001b[0m\u001b[0;34m(\u001b[0m\u001b[0mitem_ratings\u001b[0m\u001b[0;34m)\u001b[0m\u001b[0;34m\u001b[0m\u001b[0;34m\u001b[0m\u001b[0m\n\u001b[0m",
      "\u001b[0;32m<ipython-input-2-f6bd28785762>\u001b[0m in \u001b[0;36mBayseian_Ranking\u001b[0;34m(item_ratings, total_num_rating, total_avg_rating)\u001b[0m\n\u001b[1;32m     24\u001b[0m         \u001b[0mavg_rating\u001b[0m \u001b[0;34m=\u001b[0m \u001b[0mnp\u001b[0m\u001b[0;34m.\u001b[0m\u001b[0mmean\u001b[0m\u001b[0;34m(\u001b[0m\u001b[0mratings\u001b[0m\u001b[0;34m)\u001b[0m\u001b[0;34m\u001b[0m\u001b[0;34m\u001b[0m\u001b[0m\n\u001b[1;32m     25\u001b[0m \u001b[0;34m\u001b[0m\u001b[0m\n\u001b[0;32m---> 26\u001b[0;31m         \u001b[0mbayseian_rating\u001b[0m \u001b[0;34m=\u001b[0m \u001b[0;34m(\u001b[0m\u001b[0mtotal_ratings\u001b[0m\u001b[0;34m*\u001b[0m\u001b[0mtotal_avg_rating\u001b[0m \u001b[0;34m+\u001b[0m \u001b[0mnum_ratings\u001b[0m\u001b[0;34m*\u001b[0m\u001b[0mavg_rating\u001b[0m\u001b[0;34m)\u001b[0m\u001b[0;34m/\u001b[0m\u001b[0;34m(\u001b[0m\u001b[0mtotal_ratings\u001b[0m\u001b[0;34m+\u001b[0m\u001b[0mnum_ratings\u001b[0m\u001b[0;34m)\u001b[0m\u001b[0;34m\u001b[0m\u001b[0;34m\u001b[0m\u001b[0m\n\u001b[0m\u001b[1;32m     27\u001b[0m \u001b[0;34m\u001b[0m\u001b[0m\n\u001b[1;32m     28\u001b[0m         \u001b[0mitem_ranking\u001b[0m\u001b[0;34m[\u001b[0m\u001b[0mitem\u001b[0m\u001b[0;34m]\u001b[0m \u001b[0;34m=\u001b[0m \u001b[0mbayseian_rating\u001b[0m\u001b[0;34m\u001b[0m\u001b[0;34m\u001b[0m\u001b[0m\n",
      "\u001b[0;31mNameError\u001b[0m: name 'total_ratings' is not defined"
     ]
    }
   ],
   "source": [
    "# Midterm\n",
    "item_ratings = {\n",
    "    \"1\" : [4.8]*5,\n",
    "    \"2\" : [4.5]*15,\n",
    "    \"3\" : [4.3]*15,\n",
    "    \"4\" : [3.6]*10,\n",
    "    \"5\" : [3.5]*5\n",
    "}\n",
    "\n",
    "Bayseian_Ranking(item_ratings)"
   ]
  },
  {
   "cell_type": "code",
   "execution_count": null,
   "metadata": {},
   "outputs": [],
   "source": []
  }
 ],
 "metadata": {
  "kernelspec": {
   "display_name": "Python 3",
   "language": "python",
   "name": "python3"
  },
  "language_info": {
   "codemirror_mode": {
    "name": "ipython",
    "version": 3
   },
   "file_extension": ".py",
   "mimetype": "text/x-python",
   "name": "python",
   "nbconvert_exporter": "python",
   "pygments_lexer": "ipython3",
   "version": "3.7.3"
  }
 },
 "nbformat": 4,
 "nbformat_minor": 2
}
